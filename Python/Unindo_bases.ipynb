{
 "cells": [
  {
   "cell_type": "markdown",
   "id": "ab608a8f",
   "metadata": {},
   "source": [
    "# Unindo as bases"
   ]
  },
  {
   "cell_type": "code",
   "execution_count": 1,
   "id": "4c84060d",
   "metadata": {},
   "outputs": [],
   "source": [
    "# Importando os pacotes necessários\n",
    "import pandas as pd\n",
    "\n",
    "# Lendo os arquivos .CSV\n",
    "df_oct = pd.read_csv('2019Oct_SQL.csv')\n",
    "df_nov = pd.read_csv('2019Nov_SQL.csv')\n",
    "df_dec = pd.read_csv('2019Dec_SQL.csv')\n",
    "df_jan = pd.read_csv('2020Jan_SQL.csv')\n",
    "df_feb = pd.read_csv('2020Feb_SQL.csv')"
   ]
  },
  {
   "cell_type": "markdown",
   "id": "f76a0fac",
   "metadata": {},
   "source": [
    "## OUTUBRO/2019"
   ]
  },
  {
   "cell_type": "code",
   "execution_count": 2,
   "id": "8266d79b",
   "metadata": {},
   "outputs": [],
   "source": [
    "# Dividindo a coluna 'category_code' em 3 novas colunas\n",
    "df_oct[['category', 'categ2', 'categ3']] = df_oct['category_code'].str.split('.', expand=True)"
   ]
  },
  {
   "cell_type": "code",
   "execution_count": 4,
   "id": "4d81e4b7",
   "metadata": {},
   "outputs": [
    {
     "data": {
      "text/html": [
       "<div>\n",
       "<style scoped>\n",
       "    .dataframe tbody tr th:only-of-type {\n",
       "        vertical-align: middle;\n",
       "    }\n",
       "\n",
       "    .dataframe tbody tr th {\n",
       "        vertical-align: top;\n",
       "    }\n",
       "\n",
       "    .dataframe thead th {\n",
       "        text-align: right;\n",
       "    }\n",
       "</style>\n",
       "<table border=\"1\" class=\"dataframe\">\n",
       "  <thead>\n",
       "    <tr style=\"text-align: right;\">\n",
       "      <th></th>\n",
       "      <th>Data</th>\n",
       "      <th>Hora</th>\n",
       "      <th>event_type</th>\n",
       "      <th>product_id</th>\n",
       "      <th>category_id</th>\n",
       "      <th>category</th>\n",
       "      <th>brand</th>\n",
       "      <th>price</th>\n",
       "      <th>user_id</th>\n",
       "      <th>user_session</th>\n",
       "    </tr>\n",
       "  </thead>\n",
       "  <tbody>\n",
       "    <tr>\n",
       "      <th>0</th>\n",
       "      <td>2019-10-01</td>\n",
       "      <td>00:00:00</td>\n",
       "      <td>cart</td>\n",
       "      <td>5773203</td>\n",
       "      <td>1487580005134238553</td>\n",
       "      <td>NaN</td>\n",
       "      <td>runail</td>\n",
       "      <td>2.62</td>\n",
       "      <td>463240011</td>\n",
       "      <td>26dd6e6e-4dac-4778-8d2c-92e149dab885</td>\n",
       "    </tr>\n",
       "    <tr>\n",
       "      <th>1</th>\n",
       "      <td>2019-10-01</td>\n",
       "      <td>00:00:03</td>\n",
       "      <td>cart</td>\n",
       "      <td>5773353</td>\n",
       "      <td>1487580005134238553</td>\n",
       "      <td>NaN</td>\n",
       "      <td>runail</td>\n",
       "      <td>2.62</td>\n",
       "      <td>463240011</td>\n",
       "      <td>26dd6e6e-4dac-4778-8d2c-92e149dab885</td>\n",
       "    </tr>\n",
       "    <tr>\n",
       "      <th>2</th>\n",
       "      <td>2019-10-01</td>\n",
       "      <td>00:00:07</td>\n",
       "      <td>cart</td>\n",
       "      <td>5881589</td>\n",
       "      <td>2151191071051219817</td>\n",
       "      <td>NaN</td>\n",
       "      <td>lovely</td>\n",
       "      <td>13.48</td>\n",
       "      <td>429681830</td>\n",
       "      <td>49e8d843-adf3-428b-a2c3-fe8bc6a307c9</td>\n",
       "    </tr>\n",
       "    <tr>\n",
       "      <th>3</th>\n",
       "      <td>2019-10-01</td>\n",
       "      <td>00:00:07</td>\n",
       "      <td>cart</td>\n",
       "      <td>5723490</td>\n",
       "      <td>1487580005134238553</td>\n",
       "      <td>NaN</td>\n",
       "      <td>runail</td>\n",
       "      <td>2.62</td>\n",
       "      <td>463240011</td>\n",
       "      <td>26dd6e6e-4dac-4778-8d2c-92e149dab885</td>\n",
       "    </tr>\n",
       "    <tr>\n",
       "      <th>4</th>\n",
       "      <td>2019-10-01</td>\n",
       "      <td>00:00:15</td>\n",
       "      <td>cart</td>\n",
       "      <td>5881449</td>\n",
       "      <td>1487580013522845895</td>\n",
       "      <td>NaN</td>\n",
       "      <td>lovely</td>\n",
       "      <td>0.56</td>\n",
       "      <td>429681830</td>\n",
       "      <td>49e8d843-adf3-428b-a2c3-fe8bc6a307c9</td>\n",
       "    </tr>\n",
       "  </tbody>\n",
       "</table>\n",
       "</div>"
      ],
      "text/plain": [
       "         Data      Hora event_type  product_id          category_id category  \\\n",
       "0  2019-10-01  00:00:00       cart     5773203  1487580005134238553      NaN   \n",
       "1  2019-10-01  00:00:03       cart     5773353  1487580005134238553      NaN   \n",
       "2  2019-10-01  00:00:07       cart     5881589  2151191071051219817      NaN   \n",
       "3  2019-10-01  00:00:07       cart     5723490  1487580005134238553      NaN   \n",
       "4  2019-10-01  00:00:15       cart     5881449  1487580013522845895      NaN   \n",
       "\n",
       "    brand  price    user_id                          user_session  \n",
       "0  runail   2.62  463240011  26dd6e6e-4dac-4778-8d2c-92e149dab885  \n",
       "1  runail   2.62  463240011  26dd6e6e-4dac-4778-8d2c-92e149dab885  \n",
       "2  lovely  13.48  429681830  49e8d843-adf3-428b-a2c3-fe8bc6a307c9  \n",
       "3  runail   2.62  463240011  26dd6e6e-4dac-4778-8d2c-92e149dab885  \n",
       "4  lovely   0.56  429681830  49e8d843-adf3-428b-a2c3-fe8bc6a307c9  "
      ]
     },
     "execution_count": 4,
     "metadata": {},
     "output_type": "execute_result"
    }
   ],
   "source": [
    "# Excluindo as colunas 'category_code', 'categ2' e 'categ3'\n",
    "df_oct2 = df_oct.drop(columns=['category_code', 'categ2', 'categ3'])\n",
    "\n",
    "# Reorganizando as colunas\n",
    "df_oct3 = df_oct2[['Data', 'Hora', 'event_type', 'product_id', 'category_id', 'category', 'brand', 'price', 'user_id', 'user_session']]\n",
    "\n",
    "# Visualizando as 5 primeiras linhas do 'df_oct3'\n",
    "df_oct3.head()"
   ]
  },
  {
   "cell_type": "code",
   "execution_count": 5,
   "id": "86a30bd7",
   "metadata": {},
   "outputs": [
    {
     "name": "stdout",
     "output_type": "stream",
     "text": [
      "<class 'pandas.core.frame.DataFrame'>\n",
      "RangeIndex: 4102283 entries, 0 to 4102282\n",
      "Data columns (total 10 columns):\n",
      " #   Column        Dtype  \n",
      "---  ------        -----  \n",
      " 0   Data          object \n",
      " 1   Hora          object \n",
      " 2   event_type    object \n",
      " 3   product_id    int64  \n",
      " 4   category_id   int64  \n",
      " 5   category      object \n",
      " 6   brand         object \n",
      " 7   price         float64\n",
      " 8   user_id       int64  \n",
      " 9   user_session  object \n",
      "dtypes: float64(1), int64(3), object(6)\n",
      "memory usage: 313.0+ MB\n"
     ]
    }
   ],
   "source": [
    "df_oct3.info()"
   ]
  },
  {
   "cell_type": "code",
   "execution_count": 6,
   "id": "fc7df5b3",
   "metadata": {},
   "outputs": [
    {
     "name": "stdout",
     "output_type": "stream",
     "text": [
      "Existem 213155 linhas duplicadas no DataFrame.\n"
     ]
    }
   ],
   "source": [
    "# Verifica se há linhas duplicadas\n",
    "duplicadas = df_oct3.duplicated()\n",
    "\n",
    "# Conta o número de linhas duplicadas\n",
    "num_duplicadas = duplicadas.sum()\n",
    "\n",
    "# Exibe o número de linhas duplicadas\n",
    "print(f\"Existem {num_duplicadas} linhas duplicadas no DataFrame.\")"
   ]
  },
  {
   "cell_type": "code",
   "execution_count": 7,
   "id": "07314531",
   "metadata": {},
   "outputs": [
    {
     "name": "stdout",
     "output_type": "stream",
     "text": [
      "O DataFrame agora tem 3889128 linhas após remover duplicatas.\n"
     ]
    }
   ],
   "source": [
    "# Remove linhas duplicadas\n",
    "df_oct4 = df_oct3.drop_duplicates()\n",
    "\n",
    "# Exibe o novo tamanho do DataFrame\n",
    "print(f\"O DataFrame agora tem {df_oct4.shape[0]} linhas após remover duplicatas.\")"
   ]
  },
  {
   "cell_type": "markdown",
   "id": "32ddfa30",
   "metadata": {},
   "source": [
    "## NOVEMBRO/2019"
   ]
  },
  {
   "cell_type": "code",
   "execution_count": 9,
   "id": "2df742a3",
   "metadata": {},
   "outputs": [],
   "source": [
    "# Dividindo a coluna 'category_code' em 3 novas colunas\n",
    "df_nov[['category', 'categ2', 'categ3']] = df_nov['category_code'].str.split('.', expand=True)"
   ]
  },
  {
   "cell_type": "code",
   "execution_count": 10,
   "id": "9a75538c",
   "metadata": {},
   "outputs": [
    {
     "data": {
      "text/html": [
       "<div>\n",
       "<style scoped>\n",
       "    .dataframe tbody tr th:only-of-type {\n",
       "        vertical-align: middle;\n",
       "    }\n",
       "\n",
       "    .dataframe tbody tr th {\n",
       "        vertical-align: top;\n",
       "    }\n",
       "\n",
       "    .dataframe thead th {\n",
       "        text-align: right;\n",
       "    }\n",
       "</style>\n",
       "<table border=\"1\" class=\"dataframe\">\n",
       "  <thead>\n",
       "    <tr style=\"text-align: right;\">\n",
       "      <th></th>\n",
       "      <th>Data</th>\n",
       "      <th>Hora</th>\n",
       "      <th>event_type</th>\n",
       "      <th>product_id</th>\n",
       "      <th>category_id</th>\n",
       "      <th>category</th>\n",
       "      <th>brand</th>\n",
       "      <th>price</th>\n",
       "      <th>user_id</th>\n",
       "      <th>user_session</th>\n",
       "    </tr>\n",
       "  </thead>\n",
       "  <tbody>\n",
       "    <tr>\n",
       "      <th>0</th>\n",
       "      <td>2019-11-01</td>\n",
       "      <td>00:00:02</td>\n",
       "      <td>view</td>\n",
       "      <td>5802432</td>\n",
       "      <td>1487580009286598681</td>\n",
       "      <td>NaN</td>\n",
       "      <td>NaN</td>\n",
       "      <td>0.32</td>\n",
       "      <td>562076640</td>\n",
       "      <td>09fafd6c-6c99-46b1-834f-33527f4de241</td>\n",
       "    </tr>\n",
       "    <tr>\n",
       "      <th>1</th>\n",
       "      <td>2019-11-01</td>\n",
       "      <td>00:00:09</td>\n",
       "      <td>cart</td>\n",
       "      <td>5844397</td>\n",
       "      <td>1487580006317032337</td>\n",
       "      <td>NaN</td>\n",
       "      <td>NaN</td>\n",
       "      <td>2.38</td>\n",
       "      <td>553329724</td>\n",
       "      <td>2067216c-31b5-455d-a1cc-af0575a34ffb</td>\n",
       "    </tr>\n",
       "    <tr>\n",
       "      <th>2</th>\n",
       "      <td>2019-11-01</td>\n",
       "      <td>00:00:10</td>\n",
       "      <td>view</td>\n",
       "      <td>5837166</td>\n",
       "      <td>1783999064103190764</td>\n",
       "      <td>NaN</td>\n",
       "      <td>pnb</td>\n",
       "      <td>22.22</td>\n",
       "      <td>556138645</td>\n",
       "      <td>57ed222e-a54a-4907-9944-5a875c2d7f4f</td>\n",
       "    </tr>\n",
       "    <tr>\n",
       "      <th>3</th>\n",
       "      <td>2019-11-01</td>\n",
       "      <td>00:00:11</td>\n",
       "      <td>cart</td>\n",
       "      <td>5876812</td>\n",
       "      <td>1487580010100293687</td>\n",
       "      <td>NaN</td>\n",
       "      <td>jessnail</td>\n",
       "      <td>3.16</td>\n",
       "      <td>564506666</td>\n",
       "      <td>186c1951-8052-4b37-adce-dd9644b1d5f7</td>\n",
       "    </tr>\n",
       "    <tr>\n",
       "      <th>4</th>\n",
       "      <td>2019-11-01</td>\n",
       "      <td>00:00:24</td>\n",
       "      <td>remove_from_cart</td>\n",
       "      <td>5826182</td>\n",
       "      <td>1487580007483048900</td>\n",
       "      <td>NaN</td>\n",
       "      <td>NaN</td>\n",
       "      <td>3.33</td>\n",
       "      <td>553329724</td>\n",
       "      <td>2067216c-31b5-455d-a1cc-af0575a34ffb</td>\n",
       "    </tr>\n",
       "  </tbody>\n",
       "</table>\n",
       "</div>"
      ],
      "text/plain": [
       "         Data      Hora        event_type  product_id          category_id  \\\n",
       "0  2019-11-01  00:00:02              view     5802432  1487580009286598681   \n",
       "1  2019-11-01  00:00:09              cart     5844397  1487580006317032337   \n",
       "2  2019-11-01  00:00:10              view     5837166  1783999064103190764   \n",
       "3  2019-11-01  00:00:11              cart     5876812  1487580010100293687   \n",
       "4  2019-11-01  00:00:24  remove_from_cart     5826182  1487580007483048900   \n",
       "\n",
       "  category     brand  price    user_id                          user_session  \n",
       "0      NaN       NaN   0.32  562076640  09fafd6c-6c99-46b1-834f-33527f4de241  \n",
       "1      NaN       NaN   2.38  553329724  2067216c-31b5-455d-a1cc-af0575a34ffb  \n",
       "2      NaN       pnb  22.22  556138645  57ed222e-a54a-4907-9944-5a875c2d7f4f  \n",
       "3      NaN  jessnail   3.16  564506666  186c1951-8052-4b37-adce-dd9644b1d5f7  \n",
       "4      NaN       NaN   3.33  553329724  2067216c-31b5-455d-a1cc-af0575a34ffb  "
      ]
     },
     "execution_count": 10,
     "metadata": {},
     "output_type": "execute_result"
    }
   ],
   "source": [
    "# Excluindo as colunas 'category_code', 'categ2' e 'categ3'\n",
    "df_nov2 = df_nov.drop(columns=['category_code', 'categ2', 'categ3'])\n",
    "\n",
    "# Reorganizando as colunas\n",
    "df_nov3 = df_nov2[['Data', 'Hora', 'event_type', 'product_id', 'category_id', 'category', 'brand', 'price', 'user_id', 'user_session']]\n",
    "\n",
    "# Visualizando as 5 primeiras linhas do 'df_nov3'\n",
    "df_nov3.head()"
   ]
  },
  {
   "cell_type": "code",
   "execution_count": 11,
   "id": "c56a38a7",
   "metadata": {},
   "outputs": [
    {
     "name": "stdout",
     "output_type": "stream",
     "text": [
      "<class 'pandas.core.frame.DataFrame'>\n",
      "RangeIndex: 4635837 entries, 0 to 4635836\n",
      "Data columns (total 10 columns):\n",
      " #   Column        Dtype  \n",
      "---  ------        -----  \n",
      " 0   Data          object \n",
      " 1   Hora          object \n",
      " 2   event_type    object \n",
      " 3   product_id    int64  \n",
      " 4   category_id   int64  \n",
      " 5   category      object \n",
      " 6   brand         object \n",
      " 7   price         float64\n",
      " 8   user_id       int64  \n",
      " 9   user_session  object \n",
      "dtypes: float64(1), int64(3), object(6)\n",
      "memory usage: 353.7+ MB\n"
     ]
    }
   ],
   "source": [
    "df_nov3.info()"
   ]
  },
  {
   "cell_type": "code",
   "execution_count": 12,
   "id": "c8f47c17",
   "metadata": {},
   "outputs": [
    {
     "name": "stdout",
     "output_type": "stream",
     "text": [
      "Existem 246693 linhas duplicadas no DataFrame.\n"
     ]
    }
   ],
   "source": [
    "# Verifica se há linhas duplicadas\n",
    "duplicadas = df_nov3.duplicated()\n",
    "\n",
    "# Conta o número de linhas duplicadas\n",
    "num_duplicadas = duplicadas.sum()\n",
    "\n",
    "# Exibe o número de linhas duplicadas\n",
    "print(f\"Existem {num_duplicadas} linhas duplicadas no DataFrame.\")"
   ]
  },
  {
   "cell_type": "code",
   "execution_count": 13,
   "id": "8ecd3d1a",
   "metadata": {},
   "outputs": [
    {
     "name": "stdout",
     "output_type": "stream",
     "text": [
      "O DataFrame agora tem 4389144 linhas após remover duplicatas.\n"
     ]
    }
   ],
   "source": [
    "# Remove linhas duplicadas\n",
    "df_nov4 = df_nov3.drop_duplicates()\n",
    "\n",
    "# Exibe o novo tamanho do DataFrame\n",
    "print(f\"O DataFrame agora tem {df_nov4.shape[0]} linhas após remover duplicatas.\")"
   ]
  },
  {
   "cell_type": "markdown",
   "id": "c463f526",
   "metadata": {},
   "source": [
    "## DEZEMBRO/2019"
   ]
  },
  {
   "cell_type": "code",
   "execution_count": 15,
   "id": "4a8fb12b",
   "metadata": {},
   "outputs": [],
   "source": [
    "# Dividindo a coluna 'category_code' em 3 novas colunas\n",
    "df_dec[['category', 'categ2', 'categ3']] = df_dec['category_code'].str.split('.', expand=True)"
   ]
  },
  {
   "cell_type": "code",
   "execution_count": 16,
   "id": "34bac2bd",
   "metadata": {},
   "outputs": [
    {
     "data": {
      "text/html": [
       "<div>\n",
       "<style scoped>\n",
       "    .dataframe tbody tr th:only-of-type {\n",
       "        vertical-align: middle;\n",
       "    }\n",
       "\n",
       "    .dataframe tbody tr th {\n",
       "        vertical-align: top;\n",
       "    }\n",
       "\n",
       "    .dataframe thead th {\n",
       "        text-align: right;\n",
       "    }\n",
       "</style>\n",
       "<table border=\"1\" class=\"dataframe\">\n",
       "  <thead>\n",
       "    <tr style=\"text-align: right;\">\n",
       "      <th></th>\n",
       "      <th>Data</th>\n",
       "      <th>Hora</th>\n",
       "      <th>event_type</th>\n",
       "      <th>product_id</th>\n",
       "      <th>category_id</th>\n",
       "      <th>category</th>\n",
       "      <th>brand</th>\n",
       "      <th>price</th>\n",
       "      <th>user_id</th>\n",
       "      <th>user_session</th>\n",
       "    </tr>\n",
       "  </thead>\n",
       "  <tbody>\n",
       "    <tr>\n",
       "      <th>0</th>\n",
       "      <td>2019-12-01</td>\n",
       "      <td>00:00:00</td>\n",
       "      <td>remove_from_cart</td>\n",
       "      <td>5712790</td>\n",
       "      <td>1487580005268456287</td>\n",
       "      <td>NaN</td>\n",
       "      <td>f.o.x</td>\n",
       "      <td>6.27</td>\n",
       "      <td>576802932</td>\n",
       "      <td>51d85cb0-897f-48d2-918b-ad63965c12dc</td>\n",
       "    </tr>\n",
       "    <tr>\n",
       "      <th>1</th>\n",
       "      <td>2019-12-01</td>\n",
       "      <td>00:00:00</td>\n",
       "      <td>view</td>\n",
       "      <td>5764655</td>\n",
       "      <td>1487580005411062629</td>\n",
       "      <td>NaN</td>\n",
       "      <td>cnd</td>\n",
       "      <td>29.05</td>\n",
       "      <td>412120092</td>\n",
       "      <td>8adff31e-2051-4894-9758-224bfa8aec18</td>\n",
       "    </tr>\n",
       "    <tr>\n",
       "      <th>2</th>\n",
       "      <td>2019-12-01</td>\n",
       "      <td>00:00:02</td>\n",
       "      <td>cart</td>\n",
       "      <td>4958</td>\n",
       "      <td>1487580009471148064</td>\n",
       "      <td>NaN</td>\n",
       "      <td>runail</td>\n",
       "      <td>1.19</td>\n",
       "      <td>494077766</td>\n",
       "      <td>c99a50e8-2fac-4c4d-89ec-41c05f114554</td>\n",
       "    </tr>\n",
       "    <tr>\n",
       "      <th>3</th>\n",
       "      <td>2019-12-01</td>\n",
       "      <td>00:00:05</td>\n",
       "      <td>view</td>\n",
       "      <td>5848413</td>\n",
       "      <td>1487580007675986893</td>\n",
       "      <td>NaN</td>\n",
       "      <td>freedecor</td>\n",
       "      <td>0.79</td>\n",
       "      <td>348405118</td>\n",
       "      <td>722ffea5-73c0-4924-8e8f-371ff8031af4</td>\n",
       "    </tr>\n",
       "    <tr>\n",
       "      <th>4</th>\n",
       "      <td>2019-12-01</td>\n",
       "      <td>00:00:07</td>\n",
       "      <td>view</td>\n",
       "      <td>5824148</td>\n",
       "      <td>1487580005511725929</td>\n",
       "      <td>NaN</td>\n",
       "      <td>NaN</td>\n",
       "      <td>5.56</td>\n",
       "      <td>576005683</td>\n",
       "      <td>28172809-7e4a-45ce-bab0-5efa90117cd5</td>\n",
       "    </tr>\n",
       "  </tbody>\n",
       "</table>\n",
       "</div>"
      ],
      "text/plain": [
       "         Data      Hora        event_type  product_id          category_id  \\\n",
       "0  2019-12-01  00:00:00  remove_from_cart     5712790  1487580005268456287   \n",
       "1  2019-12-01  00:00:00              view     5764655  1487580005411062629   \n",
       "2  2019-12-01  00:00:02              cart        4958  1487580009471148064   \n",
       "3  2019-12-01  00:00:05              view     5848413  1487580007675986893   \n",
       "4  2019-12-01  00:00:07              view     5824148  1487580005511725929   \n",
       "\n",
       "  category      brand  price    user_id                          user_session  \n",
       "0      NaN      f.o.x   6.27  576802932  51d85cb0-897f-48d2-918b-ad63965c12dc  \n",
       "1      NaN        cnd  29.05  412120092  8adff31e-2051-4894-9758-224bfa8aec18  \n",
       "2      NaN     runail   1.19  494077766  c99a50e8-2fac-4c4d-89ec-41c05f114554  \n",
       "3      NaN  freedecor   0.79  348405118  722ffea5-73c0-4924-8e8f-371ff8031af4  \n",
       "4      NaN        NaN   5.56  576005683  28172809-7e4a-45ce-bab0-5efa90117cd5  "
      ]
     },
     "execution_count": 16,
     "metadata": {},
     "output_type": "execute_result"
    }
   ],
   "source": [
    "# Excluindo as colunas 'category_code', 'categ2' e 'categ3'\n",
    "df_dec2 = df_dec.drop(columns=['category_code', 'categ2', 'categ3'])\n",
    "\n",
    "# Reorganizando as colunas\n",
    "df_dec3 = df_dec2[['Data', 'Hora', 'event_type', 'product_id', 'category_id', 'category', 'brand', 'price', 'user_id', 'user_session']]\n",
    "\n",
    "# Visualizando as 5 primeiras linhas do 'df_dec3'\n",
    "df_dec3.head()"
   ]
  },
  {
   "cell_type": "code",
   "execution_count": 17,
   "id": "640b52c7",
   "metadata": {},
   "outputs": [
    {
     "name": "stdout",
     "output_type": "stream",
     "text": [
      "<class 'pandas.core.frame.DataFrame'>\n",
      "RangeIndex: 3533286 entries, 0 to 3533285\n",
      "Data columns (total 10 columns):\n",
      " #   Column        Dtype  \n",
      "---  ------        -----  \n",
      " 0   Data          object \n",
      " 1   Hora          object \n",
      " 2   event_type    object \n",
      " 3   product_id    int64  \n",
      " 4   category_id   int64  \n",
      " 5   category      object \n",
      " 6   brand         object \n",
      " 7   price         float64\n",
      " 8   user_id       int64  \n",
      " 9   user_session  object \n",
      "dtypes: float64(1), int64(3), object(6)\n",
      "memory usage: 269.6+ MB\n"
     ]
    }
   ],
   "source": [
    "df_dec3.info()"
   ]
  },
  {
   "cell_type": "code",
   "execution_count": 18,
   "id": "606b454e",
   "metadata": {},
   "outputs": [
    {
     "name": "stdout",
     "output_type": "stream",
     "text": [
      "Existem 183860 linhas duplicadas no DataFrame.\n"
     ]
    }
   ],
   "source": [
    "# Verifica se há linhas duplicadas\n",
    "duplicadas = df_dec3.duplicated()\n",
    "\n",
    "# Conta o número de linhas duplicadas\n",
    "num_duplicadas = duplicadas.sum()\n",
    "\n",
    "# Exibe o número de linhas duplicadas\n",
    "print(f\"Existem {num_duplicadas} linhas duplicadas no DataFrame.\")"
   ]
  },
  {
   "cell_type": "code",
   "execution_count": 19,
   "id": "9f3ef2bf",
   "metadata": {},
   "outputs": [
    {
     "name": "stdout",
     "output_type": "stream",
     "text": [
      "O DataFrame agora tem 3349426 linhas após remover duplicatas.\n"
     ]
    }
   ],
   "source": [
    "# Remove linhas duplicadas\n",
    "df_dec4 = df_dec3.drop_duplicates()\n",
    "\n",
    "# Exibe o novo tamanho do DataFrame\n",
    "print(f\"O DataFrame agora tem {df_dec4.shape[0]} linhas após remover duplicatas.\")"
   ]
  },
  {
   "cell_type": "markdown",
   "id": "4fbee851",
   "metadata": {},
   "source": [
    "## JANEIRO/2020"
   ]
  },
  {
   "cell_type": "code",
   "execution_count": 20,
   "id": "5344abad",
   "metadata": {},
   "outputs": [],
   "source": [
    "# Dividindo a coluna 'category_code' em 3 novas colunas\n",
    "df_jan[['category', 'categ2', 'categ3']] = df_jan['category_code'].str.split('.', expand=True)"
   ]
  },
  {
   "cell_type": "code",
   "execution_count": 21,
   "id": "142adca0",
   "metadata": {},
   "outputs": [
    {
     "data": {
      "text/html": [
       "<div>\n",
       "<style scoped>\n",
       "    .dataframe tbody tr th:only-of-type {\n",
       "        vertical-align: middle;\n",
       "    }\n",
       "\n",
       "    .dataframe tbody tr th {\n",
       "        vertical-align: top;\n",
       "    }\n",
       "\n",
       "    .dataframe thead th {\n",
       "        text-align: right;\n",
       "    }\n",
       "</style>\n",
       "<table border=\"1\" class=\"dataframe\">\n",
       "  <thead>\n",
       "    <tr style=\"text-align: right;\">\n",
       "      <th></th>\n",
       "      <th>Data</th>\n",
       "      <th>Hora</th>\n",
       "      <th>event_type</th>\n",
       "      <th>product_id</th>\n",
       "      <th>category_id</th>\n",
       "      <th>category</th>\n",
       "      <th>brand</th>\n",
       "      <th>price</th>\n",
       "      <th>user_id</th>\n",
       "      <th>user_session</th>\n",
       "    </tr>\n",
       "  </thead>\n",
       "  <tbody>\n",
       "    <tr>\n",
       "      <th>0</th>\n",
       "      <td>2020-01-01</td>\n",
       "      <td>00:00:00</td>\n",
       "      <td>view</td>\n",
       "      <td>5809910</td>\n",
       "      <td>1602943681873052386</td>\n",
       "      <td>NaN</td>\n",
       "      <td>grattol</td>\n",
       "      <td>5.24</td>\n",
       "      <td>595414620</td>\n",
       "      <td>4adb70bb-edbd-4981-b60f-a05bfd32683a</td>\n",
       "    </tr>\n",
       "    <tr>\n",
       "      <th>1</th>\n",
       "      <td>2020-01-01</td>\n",
       "      <td>00:00:09</td>\n",
       "      <td>view</td>\n",
       "      <td>5812943</td>\n",
       "      <td>1487580012121948301</td>\n",
       "      <td>NaN</td>\n",
       "      <td>kinetics</td>\n",
       "      <td>3.97</td>\n",
       "      <td>595414640</td>\n",
       "      <td>c8c5205d-be43-4f1d-aa56-4828b8151c8a</td>\n",
       "    </tr>\n",
       "    <tr>\n",
       "      <th>2</th>\n",
       "      <td>2020-01-01</td>\n",
       "      <td>00:00:19</td>\n",
       "      <td>view</td>\n",
       "      <td>5798924</td>\n",
       "      <td>1783999068867920626</td>\n",
       "      <td>NaN</td>\n",
       "      <td>zinger</td>\n",
       "      <td>3.97</td>\n",
       "      <td>595412617</td>\n",
       "      <td>46a5010f-bd69-4fbe-a00d-bb17aa7b46f3</td>\n",
       "    </tr>\n",
       "    <tr>\n",
       "      <th>3</th>\n",
       "      <td>2020-01-01</td>\n",
       "      <td>00:00:24</td>\n",
       "      <td>view</td>\n",
       "      <td>5793052</td>\n",
       "      <td>1487580005754995573</td>\n",
       "      <td>NaN</td>\n",
       "      <td>NaN</td>\n",
       "      <td>4.92</td>\n",
       "      <td>420652863</td>\n",
       "      <td>546f6af3-a517-4752-a98b-80c4c5860711</td>\n",
       "    </tr>\n",
       "    <tr>\n",
       "      <th>4</th>\n",
       "      <td>2020-01-01</td>\n",
       "      <td>00:00:25</td>\n",
       "      <td>view</td>\n",
       "      <td>5899926</td>\n",
       "      <td>2115334439910245200</td>\n",
       "      <td>NaN</td>\n",
       "      <td>NaN</td>\n",
       "      <td>3.92</td>\n",
       "      <td>484071203</td>\n",
       "      <td>cff70ddf-529e-4b0c-a4fc-f43a749c0acb</td>\n",
       "    </tr>\n",
       "  </tbody>\n",
       "</table>\n",
       "</div>"
      ],
      "text/plain": [
       "         Data      Hora event_type  product_id          category_id category  \\\n",
       "0  2020-01-01  00:00:00       view     5809910  1602943681873052386      NaN   \n",
       "1  2020-01-01  00:00:09       view     5812943  1487580012121948301      NaN   \n",
       "2  2020-01-01  00:00:19       view     5798924  1783999068867920626      NaN   \n",
       "3  2020-01-01  00:00:24       view     5793052  1487580005754995573      NaN   \n",
       "4  2020-01-01  00:00:25       view     5899926  2115334439910245200      NaN   \n",
       "\n",
       "      brand  price    user_id                          user_session  \n",
       "0   grattol   5.24  595414620  4adb70bb-edbd-4981-b60f-a05bfd32683a  \n",
       "1  kinetics   3.97  595414640  c8c5205d-be43-4f1d-aa56-4828b8151c8a  \n",
       "2    zinger   3.97  595412617  46a5010f-bd69-4fbe-a00d-bb17aa7b46f3  \n",
       "3       NaN   4.92  420652863  546f6af3-a517-4752-a98b-80c4c5860711  \n",
       "4       NaN   3.92  484071203  cff70ddf-529e-4b0c-a4fc-f43a749c0acb  "
      ]
     },
     "execution_count": 21,
     "metadata": {},
     "output_type": "execute_result"
    }
   ],
   "source": [
    "# Excluindo as colunas 'category_code', 'categ2' e 'categ3'\n",
    "df_jan2 = df_jan.drop(columns=['category_code', 'categ2', 'categ3'])\n",
    "\n",
    "# Reorganizando as colunas\n",
    "df_jan3 = df_jan2[['Data', 'Hora', 'event_type', 'product_id', 'category_id', 'category', 'brand', 'price', 'user_id', 'user_session']]\n",
    "\n",
    "# Visualizando as 5 primeiras linhas do 'df_jan3'\n",
    "df_jan3.head()"
   ]
  },
  {
   "cell_type": "code",
   "execution_count": 22,
   "id": "949b5327",
   "metadata": {},
   "outputs": [
    {
     "name": "stdout",
     "output_type": "stream",
     "text": [
      "<class 'pandas.core.frame.DataFrame'>\n",
      "RangeIndex: 4264752 entries, 0 to 4264751\n",
      "Data columns (total 10 columns):\n",
      " #   Column        Dtype  \n",
      "---  ------        -----  \n",
      " 0   Data          object \n",
      " 1   Hora          object \n",
      " 2   event_type    object \n",
      " 3   product_id    int64  \n",
      " 4   category_id   int64  \n",
      " 5   category      object \n",
      " 6   brand         object \n",
      " 7   price         float64\n",
      " 8   user_id       int64  \n",
      " 9   user_session  object \n",
      "dtypes: float64(1), int64(3), object(6)\n",
      "memory usage: 325.4+ MB\n"
     ]
    }
   ],
   "source": [
    "df_jan3.info()"
   ]
  },
  {
   "cell_type": "code",
   "execution_count": 23,
   "id": "3f497f97",
   "metadata": {},
   "outputs": [
    {
     "name": "stdout",
     "output_type": "stream",
     "text": [
      "Existem 225100 linhas duplicadas no DataFrame.\n"
     ]
    }
   ],
   "source": [
    "# Verifica se há linhas duplicadas\n",
    "duplicadas = df_jan3.duplicated()\n",
    "\n",
    "# Conta o número de linhas duplicadas\n",
    "num_duplicadas = duplicadas.sum()\n",
    "\n",
    "# Exibe o número de linhas duplicadas\n",
    "print(f\"Existem {num_duplicadas} linhas duplicadas no DataFrame.\")"
   ]
  },
  {
   "cell_type": "code",
   "execution_count": 24,
   "id": "2513d405",
   "metadata": {},
   "outputs": [
    {
     "name": "stdout",
     "output_type": "stream",
     "text": [
      "O DataFrame agora tem 4039652 linhas após remover duplicatas.\n"
     ]
    }
   ],
   "source": [
    "# Remove linhas duplicadas\n",
    "df_jan4 = df_jan3.drop_duplicates()\n",
    "\n",
    "# Exibe o novo tamanho do DataFrame\n",
    "print(f\"O DataFrame agora tem {df_jan4.shape[0]} linhas após remover duplicatas.\")"
   ]
  },
  {
   "cell_type": "markdown",
   "id": "a66478d4",
   "metadata": {},
   "source": [
    "## FEVEREIRO/2020"
   ]
  },
  {
   "cell_type": "code",
   "execution_count": 25,
   "id": "ecac9e9b",
   "metadata": {},
   "outputs": [],
   "source": [
    "# Dividindo a coluna 'category_code' em 3 novas colunas\n",
    "df_feb[['category', 'categ2', 'categ3']] = df_feb['category_code'].str.split('.', expand=True)"
   ]
  },
  {
   "cell_type": "code",
   "execution_count": 26,
   "id": "67c7ed5c",
   "metadata": {},
   "outputs": [
    {
     "data": {
      "text/html": [
       "<div>\n",
       "<style scoped>\n",
       "    .dataframe tbody tr th:only-of-type {\n",
       "        vertical-align: middle;\n",
       "    }\n",
       "\n",
       "    .dataframe tbody tr th {\n",
       "        vertical-align: top;\n",
       "    }\n",
       "\n",
       "    .dataframe thead th {\n",
       "        text-align: right;\n",
       "    }\n",
       "</style>\n",
       "<table border=\"1\" class=\"dataframe\">\n",
       "  <thead>\n",
       "    <tr style=\"text-align: right;\">\n",
       "      <th></th>\n",
       "      <th>Data</th>\n",
       "      <th>Hora</th>\n",
       "      <th>event_type</th>\n",
       "      <th>product_id</th>\n",
       "      <th>category_id</th>\n",
       "      <th>category</th>\n",
       "      <th>brand</th>\n",
       "      <th>price</th>\n",
       "      <th>user_id</th>\n",
       "      <th>user_session</th>\n",
       "    </tr>\n",
       "  </thead>\n",
       "  <tbody>\n",
       "    <tr>\n",
       "      <th>0</th>\n",
       "      <td>2020-02-01</td>\n",
       "      <td>00:00:01</td>\n",
       "      <td>cart</td>\n",
       "      <td>5844305</td>\n",
       "      <td>1487580006317032337</td>\n",
       "      <td>NaN</td>\n",
       "      <td>NaN</td>\n",
       "      <td>2.14</td>\n",
       "      <td>485174092</td>\n",
       "      <td>4be9643a-420b-4c6b-83dd-a15e772fbf7a</td>\n",
       "    </tr>\n",
       "    <tr>\n",
       "      <th>1</th>\n",
       "      <td>2020-02-01</td>\n",
       "      <td>00:00:03</td>\n",
       "      <td>view</td>\n",
       "      <td>5769925</td>\n",
       "      <td>1487580013841613016</td>\n",
       "      <td>NaN</td>\n",
       "      <td>kapous</td>\n",
       "      <td>4.22</td>\n",
       "      <td>594621622</td>\n",
       "      <td>a88baf11-9cd0-4362-bde4-1bfeed3f641d</td>\n",
       "    </tr>\n",
       "    <tr>\n",
       "      <th>2</th>\n",
       "      <td>2020-02-01</td>\n",
       "      <td>00:00:08</td>\n",
       "      <td>view</td>\n",
       "      <td>5817765</td>\n",
       "      <td>1487580008246412266</td>\n",
       "      <td>NaN</td>\n",
       "      <td>zeitun</td>\n",
       "      <td>11.03</td>\n",
       "      <td>495404942</td>\n",
       "      <td>3a569c8d-d848-4f09-a925-33f673d84c46</td>\n",
       "    </tr>\n",
       "    <tr>\n",
       "      <th>3</th>\n",
       "      <td>2020-02-01</td>\n",
       "      <td>00:00:11</td>\n",
       "      <td>view</td>\n",
       "      <td>5877033</td>\n",
       "      <td>1487580010100293687</td>\n",
       "      <td>NaN</td>\n",
       "      <td>milv</td>\n",
       "      <td>3.49</td>\n",
       "      <td>564814969</td>\n",
       "      <td>7feb39e5-bb7b-4b2b-a546-3e3b7c56326e</td>\n",
       "    </tr>\n",
       "    <tr>\n",
       "      <th>4</th>\n",
       "      <td>2020-02-01</td>\n",
       "      <td>00:00:12</td>\n",
       "      <td>cart</td>\n",
       "      <td>5814871</td>\n",
       "      <td>1487580008112194531</td>\n",
       "      <td>NaN</td>\n",
       "      <td>zinger</td>\n",
       "      <td>2.54</td>\n",
       "      <td>551205603</td>\n",
       "      <td>106a7c7f-7fa1-4463-8bec-0ea7b02191cb</td>\n",
       "    </tr>\n",
       "  </tbody>\n",
       "</table>\n",
       "</div>"
      ],
      "text/plain": [
       "         Data      Hora event_type  product_id          category_id category  \\\n",
       "0  2020-02-01  00:00:01       cart     5844305  1487580006317032337      NaN   \n",
       "1  2020-02-01  00:00:03       view     5769925  1487580013841613016      NaN   \n",
       "2  2020-02-01  00:00:08       view     5817765  1487580008246412266      NaN   \n",
       "3  2020-02-01  00:00:11       view     5877033  1487580010100293687      NaN   \n",
       "4  2020-02-01  00:00:12       cart     5814871  1487580008112194531      NaN   \n",
       "\n",
       "    brand  price    user_id                          user_session  \n",
       "0     NaN   2.14  485174092  4be9643a-420b-4c6b-83dd-a15e772fbf7a  \n",
       "1  kapous   4.22  594621622  a88baf11-9cd0-4362-bde4-1bfeed3f641d  \n",
       "2  zeitun  11.03  495404942  3a569c8d-d848-4f09-a925-33f673d84c46  \n",
       "3    milv   3.49  564814969  7feb39e5-bb7b-4b2b-a546-3e3b7c56326e  \n",
       "4  zinger   2.54  551205603  106a7c7f-7fa1-4463-8bec-0ea7b02191cb  "
      ]
     },
     "execution_count": 26,
     "metadata": {},
     "output_type": "execute_result"
    }
   ],
   "source": [
    "# Excluindo as colunas 'category_code', 'categ2' e 'categ3'\n",
    "df_feb2 = df_feb.drop(columns=['category_code', 'categ2', 'categ3'])\n",
    "\n",
    "# Reorganizando as colunas\n",
    "df_feb3 = df_feb2[['Data', 'Hora', 'event_type', 'product_id', 'category_id', 'category', 'brand', 'price', 'user_id', 'user_session']]\n",
    "\n",
    "# Visualizando as 5 primeiras linhas do 'df_feb3'\n",
    "df_feb3.head()"
   ]
  },
  {
   "cell_type": "code",
   "execution_count": 27,
   "id": "f4e812a6",
   "metadata": {},
   "outputs": [
    {
     "name": "stdout",
     "output_type": "stream",
     "text": [
      "<class 'pandas.core.frame.DataFrame'>\n",
      "RangeIndex: 4156682 entries, 0 to 4156681\n",
      "Data columns (total 10 columns):\n",
      " #   Column        Dtype  \n",
      "---  ------        -----  \n",
      " 0   Data          object \n",
      " 1   Hora          object \n",
      " 2   event_type    object \n",
      " 3   product_id    int64  \n",
      " 4   category_id   int64  \n",
      " 5   category      object \n",
      " 6   brand         object \n",
      " 7   price         float64\n",
      " 8   user_id       int64  \n",
      " 9   user_session  object \n",
      "dtypes: float64(1), int64(3), object(6)\n",
      "memory usage: 317.1+ MB\n"
     ]
    }
   ],
   "source": [
    "df_feb3.info()"
   ]
  },
  {
   "cell_type": "code",
   "execution_count": 28,
   "id": "ce4e38ef",
   "metadata": {},
   "outputs": [
    {
     "name": "stdout",
     "output_type": "stream",
     "text": [
      "Existem 240290 linhas duplicadas no DataFrame.\n"
     ]
    }
   ],
   "source": [
    "# Verifica se há linhas duplicadas\n",
    "duplicadas = df_feb3.duplicated()\n",
    "\n",
    "# Conta o número de linhas duplicadas\n",
    "num_duplicadas = duplicadas.sum()\n",
    "\n",
    "# Exibe o número de linhas duplicadas\n",
    "print(f\"Existem {num_duplicadas} linhas duplicadas no DataFrame.\")"
   ]
  },
  {
   "cell_type": "code",
   "execution_count": 29,
   "id": "45136ad7",
   "metadata": {},
   "outputs": [
    {
     "name": "stdout",
     "output_type": "stream",
     "text": [
      "O DataFrame agora tem 3916392 linhas após remover duplicatas.\n"
     ]
    }
   ],
   "source": [
    "# Remove linhas duplicadas\n",
    "df_feb4 = df_feb3.drop_duplicates()\n",
    "\n",
    "# Exibe o novo tamanho do DataFrame\n",
    "print(f\"O DataFrame agora tem {df_feb4.shape[0]} linhas após remover duplicatas.\")"
   ]
  },
  {
   "cell_type": "markdown",
   "id": "f805637c",
   "metadata": {},
   "source": [
    "# Unindo os dataframes"
   ]
  },
  {
   "cell_type": "code",
   "execution_count": 30,
   "id": "868e93b2",
   "metadata": {},
   "outputs": [],
   "source": [
    "# Lista de todos os DataFrames\n",
    "dfs = [df_oct4, df_nov4, df_dec4, df_jan4, df_feb4]"
   ]
  },
  {
   "cell_type": "code",
   "execution_count": 31,
   "id": "88607e00",
   "metadata": {},
   "outputs": [],
   "source": [
    "# Concatenar todos os DataFrames em um só\n",
    "df_unificado = pd.concat(dfs, ignore_index=True)"
   ]
  },
  {
   "cell_type": "code",
   "execution_count": 32,
   "id": "067611a4",
   "metadata": {},
   "outputs": [
    {
     "data": {
      "text/html": [
       "<div>\n",
       "<style scoped>\n",
       "    .dataframe tbody tr th:only-of-type {\n",
       "        vertical-align: middle;\n",
       "    }\n",
       "\n",
       "    .dataframe tbody tr th {\n",
       "        vertical-align: top;\n",
       "    }\n",
       "\n",
       "    .dataframe thead th {\n",
       "        text-align: right;\n",
       "    }\n",
       "</style>\n",
       "<table border=\"1\" class=\"dataframe\">\n",
       "  <thead>\n",
       "    <tr style=\"text-align: right;\">\n",
       "      <th></th>\n",
       "      <th>Data</th>\n",
       "      <th>Hora</th>\n",
       "      <th>event_type</th>\n",
       "      <th>product_id</th>\n",
       "      <th>category_id</th>\n",
       "      <th>category</th>\n",
       "      <th>brand</th>\n",
       "      <th>price</th>\n",
       "      <th>user_id</th>\n",
       "      <th>user_session</th>\n",
       "    </tr>\n",
       "  </thead>\n",
       "  <tbody>\n",
       "    <tr>\n",
       "      <th>0</th>\n",
       "      <td>2019-10-01</td>\n",
       "      <td>00:00:00</td>\n",
       "      <td>cart</td>\n",
       "      <td>5773203</td>\n",
       "      <td>1487580005134238553</td>\n",
       "      <td>NaN</td>\n",
       "      <td>runail</td>\n",
       "      <td>2.62</td>\n",
       "      <td>463240011</td>\n",
       "      <td>26dd6e6e-4dac-4778-8d2c-92e149dab885</td>\n",
       "    </tr>\n",
       "    <tr>\n",
       "      <th>1</th>\n",
       "      <td>2019-10-01</td>\n",
       "      <td>00:00:03</td>\n",
       "      <td>cart</td>\n",
       "      <td>5773353</td>\n",
       "      <td>1487580005134238553</td>\n",
       "      <td>NaN</td>\n",
       "      <td>runail</td>\n",
       "      <td>2.62</td>\n",
       "      <td>463240011</td>\n",
       "      <td>26dd6e6e-4dac-4778-8d2c-92e149dab885</td>\n",
       "    </tr>\n",
       "    <tr>\n",
       "      <th>2</th>\n",
       "      <td>2019-10-01</td>\n",
       "      <td>00:00:07</td>\n",
       "      <td>cart</td>\n",
       "      <td>5881589</td>\n",
       "      <td>2151191071051219817</td>\n",
       "      <td>NaN</td>\n",
       "      <td>lovely</td>\n",
       "      <td>13.48</td>\n",
       "      <td>429681830</td>\n",
       "      <td>49e8d843-adf3-428b-a2c3-fe8bc6a307c9</td>\n",
       "    </tr>\n",
       "    <tr>\n",
       "      <th>3</th>\n",
       "      <td>2019-10-01</td>\n",
       "      <td>00:00:07</td>\n",
       "      <td>cart</td>\n",
       "      <td>5723490</td>\n",
       "      <td>1487580005134238553</td>\n",
       "      <td>NaN</td>\n",
       "      <td>runail</td>\n",
       "      <td>2.62</td>\n",
       "      <td>463240011</td>\n",
       "      <td>26dd6e6e-4dac-4778-8d2c-92e149dab885</td>\n",
       "    </tr>\n",
       "    <tr>\n",
       "      <th>4</th>\n",
       "      <td>2019-10-01</td>\n",
       "      <td>00:00:15</td>\n",
       "      <td>cart</td>\n",
       "      <td>5881449</td>\n",
       "      <td>1487580013522845895</td>\n",
       "      <td>NaN</td>\n",
       "      <td>lovely</td>\n",
       "      <td>0.56</td>\n",
       "      <td>429681830</td>\n",
       "      <td>49e8d843-adf3-428b-a2c3-fe8bc6a307c9</td>\n",
       "    </tr>\n",
       "  </tbody>\n",
       "</table>\n",
       "</div>"
      ],
      "text/plain": [
       "         Data      Hora event_type  product_id          category_id category  \\\n",
       "0  2019-10-01  00:00:00       cart     5773203  1487580005134238553      NaN   \n",
       "1  2019-10-01  00:00:03       cart     5773353  1487580005134238553      NaN   \n",
       "2  2019-10-01  00:00:07       cart     5881589  2151191071051219817      NaN   \n",
       "3  2019-10-01  00:00:07       cart     5723490  1487580005134238553      NaN   \n",
       "4  2019-10-01  00:00:15       cart     5881449  1487580013522845895      NaN   \n",
       "\n",
       "    brand  price    user_id                          user_session  \n",
       "0  runail   2.62  463240011  26dd6e6e-4dac-4778-8d2c-92e149dab885  \n",
       "1  runail   2.62  463240011  26dd6e6e-4dac-4778-8d2c-92e149dab885  \n",
       "2  lovely  13.48  429681830  49e8d843-adf3-428b-a2c3-fe8bc6a307c9  \n",
       "3  runail   2.62  463240011  26dd6e6e-4dac-4778-8d2c-92e149dab885  \n",
       "4  lovely   0.56  429681830  49e8d843-adf3-428b-a2c3-fe8bc6a307c9  "
      ]
     },
     "execution_count": 32,
     "metadata": {},
     "output_type": "execute_result"
    }
   ],
   "source": [
    "# Visualizando as 5 primeiras linhas do 'df_unificado'\n",
    "df_unificado.head(5)"
   ]
  },
  {
   "cell_type": "code",
   "execution_count": 33,
   "id": "4d7a4018",
   "metadata": {},
   "outputs": [
    {
     "data": {
      "text/html": [
       "<div>\n",
       "<style scoped>\n",
       "    .dataframe tbody tr th:only-of-type {\n",
       "        vertical-align: middle;\n",
       "    }\n",
       "\n",
       "    .dataframe tbody tr th {\n",
       "        vertical-align: top;\n",
       "    }\n",
       "\n",
       "    .dataframe thead th {\n",
       "        text-align: right;\n",
       "    }\n",
       "</style>\n",
       "<table border=\"1\" class=\"dataframe\">\n",
       "  <thead>\n",
       "    <tr style=\"text-align: right;\">\n",
       "      <th></th>\n",
       "      <th>Data</th>\n",
       "      <th>Hora</th>\n",
       "      <th>event_type</th>\n",
       "      <th>product_id</th>\n",
       "      <th>category_id</th>\n",
       "      <th>category</th>\n",
       "      <th>brand</th>\n",
       "      <th>price</th>\n",
       "      <th>user_id</th>\n",
       "      <th>user_session</th>\n",
       "    </tr>\n",
       "  </thead>\n",
       "  <tbody>\n",
       "    <tr>\n",
       "      <th>19583737</th>\n",
       "      <td>2020-02-29</td>\n",
       "      <td>23:59:32</td>\n",
       "      <td>view</td>\n",
       "      <td>5885416</td>\n",
       "      <td>1487580005092295511</td>\n",
       "      <td>NaN</td>\n",
       "      <td>grattol</td>\n",
       "      <td>6.27</td>\n",
       "      <td>622082947</td>\n",
       "      <td>fb29909b-6ef5-4662-b4ee-288e73e5dc10</td>\n",
       "    </tr>\n",
       "    <tr>\n",
       "      <th>19583738</th>\n",
       "      <td>2020-02-29</td>\n",
       "      <td>23:59:39</td>\n",
       "      <td>cart</td>\n",
       "      <td>5550686</td>\n",
       "      <td>1487580008145748965</td>\n",
       "      <td>NaN</td>\n",
       "      <td>NaN</td>\n",
       "      <td>1.11</td>\n",
       "      <td>459705611</td>\n",
       "      <td>05d2add3-01f7-47ee-8364-27341673227f</td>\n",
       "    </tr>\n",
       "    <tr>\n",
       "      <th>19583739</th>\n",
       "      <td>2020-02-29</td>\n",
       "      <td>23:59:45</td>\n",
       "      <td>view</td>\n",
       "      <td>5850628</td>\n",
       "      <td>1602943681873052386</td>\n",
       "      <td>NaN</td>\n",
       "      <td>grattol</td>\n",
       "      <td>5.24</td>\n",
       "      <td>622090043</td>\n",
       "      <td>ab7d349f-db5d-4790-8ab1-31e5c894459d</td>\n",
       "    </tr>\n",
       "    <tr>\n",
       "      <th>19583740</th>\n",
       "      <td>2020-02-29</td>\n",
       "      <td>23:59:54</td>\n",
       "      <td>view</td>\n",
       "      <td>5716351</td>\n",
       "      <td>1487580010872045658</td>\n",
       "      <td>NaN</td>\n",
       "      <td>irisk</td>\n",
       "      <td>0.79</td>\n",
       "      <td>619841242</td>\n",
       "      <td>18af673b-7fb9-4202-a66d-5c855bc0fd2d</td>\n",
       "    </tr>\n",
       "    <tr>\n",
       "      <th>19583741</th>\n",
       "      <td>2020-02-29</td>\n",
       "      <td>23:59:59</td>\n",
       "      <td>view</td>\n",
       "      <td>5927709</td>\n",
       "      <td>1487580013950664926</td>\n",
       "      <td>NaN</td>\n",
       "      <td>de.lux</td>\n",
       "      <td>3.17</td>\n",
       "      <td>621669991</td>\n",
       "      <td>daa3c677-5360-4327-847e-d29658716b99</td>\n",
       "    </tr>\n",
       "  </tbody>\n",
       "</table>\n",
       "</div>"
      ],
      "text/plain": [
       "                Data      Hora event_type  product_id          category_id  \\\n",
       "19583737  2020-02-29  23:59:32       view     5885416  1487580005092295511   \n",
       "19583738  2020-02-29  23:59:39       cart     5550686  1487580008145748965   \n",
       "19583739  2020-02-29  23:59:45       view     5850628  1602943681873052386   \n",
       "19583740  2020-02-29  23:59:54       view     5716351  1487580010872045658   \n",
       "19583741  2020-02-29  23:59:59       view     5927709  1487580013950664926   \n",
       "\n",
       "         category    brand  price    user_id  \\\n",
       "19583737      NaN  grattol   6.27  622082947   \n",
       "19583738      NaN      NaN   1.11  459705611   \n",
       "19583739      NaN  grattol   5.24  622090043   \n",
       "19583740      NaN    irisk   0.79  619841242   \n",
       "19583741      NaN   de.lux   3.17  621669991   \n",
       "\n",
       "                                  user_session  \n",
       "19583737  fb29909b-6ef5-4662-b4ee-288e73e5dc10  \n",
       "19583738  05d2add3-01f7-47ee-8364-27341673227f  \n",
       "19583739  ab7d349f-db5d-4790-8ab1-31e5c894459d  \n",
       "19583740  18af673b-7fb9-4202-a66d-5c855bc0fd2d  \n",
       "19583741  daa3c677-5360-4327-847e-d29658716b99  "
      ]
     },
     "execution_count": 33,
     "metadata": {},
     "output_type": "execute_result"
    }
   ],
   "source": [
    "# Visualizando as 5 últimas linhas do 'df_unificado'\n",
    "df_unificado.tail(5)"
   ]
  },
  {
   "cell_type": "code",
   "execution_count": 35,
   "id": "f624a078",
   "metadata": {},
   "outputs": [
    {
     "name": "stdout",
     "output_type": "stream",
     "text": [
      "<class 'pandas.core.frame.DataFrame'>\n",
      "RangeIndex: 19583742 entries, 0 to 19583741\n",
      "Data columns (total 10 columns):\n",
      " #   Column        Dtype  \n",
      "---  ------        -----  \n",
      " 0   Data          object \n",
      " 1   Hora          object \n",
      " 2   event_type    object \n",
      " 3   product_id    int64  \n",
      " 4   category_id   int64  \n",
      " 5   category      object \n",
      " 6   brand         object \n",
      " 7   price         float64\n",
      " 8   user_id       int64  \n",
      " 9   user_session  object \n",
      "dtypes: float64(1), int64(3), object(6)\n",
      "memory usage: 1.5+ GB\n"
     ]
    }
   ],
   "source": [
    "df_unificado.info()"
   ]
  },
  {
   "cell_type": "markdown",
   "id": "ea6a436d",
   "metadata": {},
   "source": [
    "O dataframe unficado ficou com 10 colunas, 19583742 linhas e um tamanho de aproximadamente 1,5 Gb."
   ]
  },
  {
   "cell_type": "code",
   "execution_count": 36,
   "id": "5893d212",
   "metadata": {},
   "outputs": [],
   "source": [
    "# Salvando o df_unificado num arquivo .CSV\n",
    "df_unificado.to_csv('fulldb.csv', index=False)"
   ]
  }
 ],
 "metadata": {
  "kernelspec": {
   "display_name": "Python 3 (ipykernel)",
   "language": "python",
   "name": "python3"
  },
  "language_info": {
   "codemirror_mode": {
    "name": "ipython",
    "version": 3
   },
   "file_extension": ".py",
   "mimetype": "text/x-python",
   "name": "python",
   "nbconvert_exporter": "python",
   "pygments_lexer": "ipython3",
   "version": "3.11.4"
  }
 },
 "nbformat": 4,
 "nbformat_minor": 5
}
