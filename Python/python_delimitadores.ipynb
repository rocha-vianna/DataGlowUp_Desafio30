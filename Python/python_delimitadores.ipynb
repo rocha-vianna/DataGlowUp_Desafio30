{
 "cells": [
  {
   "cell_type": "code",
   "execution_count": 5,
   "id": "9ea78ddd",
   "metadata": {},
   "outputs": [],
   "source": [
    "import csv\n",
    "\n",
    "# Define o arquivo de entrada e o de saída\n",
    "input_file = 'propostas_credito.csv'\n",
    "output_file = 'propostas_creditopv.csv'\n",
    "\n",
    "# Abre o arquivo de entrada para ler e o de saída para escrever\n",
    "with open(input_file, 'r') as f_in, open(output_file, 'w', newline='') as f_out:\n",
    "    # Cria um leitor (CSV reader) e um escritor (CSV writer) de CSV, especificando o delimitador atual e o novo\n",
    "    reader = csv.reader(f_in, delimiter=',')\n",
    "    writer = csv.writer(f_out, delimiter=';')\n",
    "    \n",
    "    # Passa por cada linha do arquivo de entrada, mudando o delimitador, e escrevendo no arquivo de saída\n",
    "    for row in reader:\n",
    "        writer.writerow(row)"
   ]
  },
  {
   "cell_type": "code",
   "execution_count": 6,
   "id": "f45341c5",
   "metadata": {},
   "outputs": [],
   "source": [
    "import csv\n",
    "\n",
    "# Define o arquivo de entrada e o de saída\n",
    "input_file = 'propostas_creditopv.csv'\n",
    "output_file = 'propostas_creditopvv.csv'\n",
    "\n",
    "# Abre o arquivo de entrada para ler e o de saída para escrever\n",
    "with open(input_file, 'r') as f_in, open(output_file, 'w', newline='') as f_out:\n",
    "    # Cria um leitor (CSV reader) e um escritor (CSV writer) de CSV, especificando o delimitador atual e o novo\n",
    "    reader = csv.reader(f_in, delimiter='.')\n",
    "    writer = csv.writer(f_out, delimiter=',')\n",
    "    \n",
    "    # Passa por cada linha do arquivo de entrada, mudando o delimitador, e escrevendo no arquivo de saída\n",
    "    for row in reader:\n",
    "        writer.writerow(row)"
   ]
  }
 ],
 "metadata": {
  "kernelspec": {
   "display_name": "Python 3 (ipykernel)",
   "language": "python",
   "name": "python3"
  },
  "language_info": {
   "codemirror_mode": {
    "name": "ipython",
    "version": 3
   },
   "file_extension": ".py",
   "mimetype": "text/x-python",
   "name": "python",
   "nbconvert_exporter": "python",
   "pygments_lexer": "ipython3",
   "version": "3.11.4"
  }
 },
 "nbformat": 4,
 "nbformat_minor": 5
}
